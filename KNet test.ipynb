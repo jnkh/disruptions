{
 "cells": [
  {
   "cell_type": "code",
   "execution_count": null,
   "metadata": {
    "collapsed": false
   },
   "outputs": [],
   "source": [
    "#Pkg.clone(\"git://github.com/denizyuret/Knet.jl.git\")\n",
    "#Pkg.checkout(\"Knet\", \"handout-mtg\")\n",
    "Pkg.build(\"Knet\")"
   ]
  },
  {
   "cell_type": "code",
   "execution_count": null,
   "metadata": {
    "collapsed": false
   },
   "outputs": [],
   "source": [
    "include(Pkg.dir(\"Knet/examples/adding.jl\"))\n",
    "#import Knet"
   ]
  },
  {
   "cell_type": "code",
   "execution_count": null,
   "metadata": {
    "collapsed": false
   },
   "outputs": [],
   "source": [
    "using Knet"
   ]
  },
  {
   "cell_type": "code",
   "execution_count": null,
   "metadata": {
    "collapsed": false
   },
   "outputs": [],
   "source": [
    "prog = quote\n",
    "    x = input()\n",
    "    w = par(size(x),0)\n",
    "    x1 = dot(x,w)\n",
    "    b = par(0)\n",
    "    x2 = add(b,x1)\n",
    "    y = tanh(x2)\n",
    "end"
   ]
  },
  {
   "cell_type": "code",
   "execution_count": null,
   "metadata": {
    "collapsed": true
   },
   "outputs": [],
   "source": [
    "Net(prog)"
   ]
  },
  {
   "cell_type": "code",
   "execution_count": null,
   "metadata": {
    "collapsed": false
   },
   "outputs": [],
   "source": [
    "using Mocha"
   ]
  },
  {
   "cell_type": "code",
   "execution_count": null,
   "metadata": {
    "collapsed": false
   },
   "outputs": [],
   "source": [
    "using PyPlot"
   ]
  },
  {
   "cell_type": "code",
   "execution_count": null,
   "metadata": {
    "collapsed": false
   },
   "outputs": [],
   "source": [
    "function ground_truth(x::Array)\n",
    "    return 1./(x.^2 + 1);\n",
    "end\n",
    "\n",
    "\n",
    "function simulate_data(x::Array)\n",
    "    noise_ampl = 0.01;\n",
    "    return [ground_truth xi for xi in x] + noise_ampl*randn(size(x));\n",
    "end\n",
    "\n",
    "\n",
    "x = shuffle(collect(-pi:0.01:2*pi));\n",
    "y = simulate_data(x);\n",
    "#plot(x,y)"
   ]
  },
  {
   "cell_type": "code",
   "execution_count": null,
   "metadata": {
    "collapsed": false,
    "scrolled": true
   },
   "outputs": [],
   "source": [
    "\n",
    "data_layer = MemoryDataLayer(batch_size=1,data = Array[x,y],tops = [:data,:truth])\n",
    "    \n",
    "common_layers = [\n",
    "    InnerProductLayer(name = \"prod\",output_dim = 100,neuron = Neurons.Tanh(),\n",
    "    tops = [:output1],bottoms = [:data])\n",
    "    InnerProductLayer(name = \"prod2\",output_dim = 1,\n",
    "    tops = [:output],bottoms = [:output1])\n",
    "\n",
    "\n",
    "]\n",
    "\n",
    "loss_layer = SquareLossLayer(bottoms = [:output,:truth])\n",
    "\n",
    "backend = CPUBackend()\n",
    "init(backend)\n",
    "\n",
    "net = Net(\"train-net\",backend,[data_layer,common_layers...,loss_layer]);\n",
    "\n",
    "\n",
    "method = SGD()\n",
    "solver_params = Mocha.make_solver_parameters(method, batch_size=10, max_iter=100*length(x),\n",
    "regu_coef=0.001, momentum=0.0,lr_policy=LRPolicy.Fixed(0.001),\n",
    "    load_from=\"snapshots\")\n",
    "solver = Solver(method,solver_params)\n",
    "add_coffee_break(solver, TrainingSummary(), every_n_iter=10*length(x))\n",
    "solve(solver,net);"
   ]
  },
  {
   "cell_type": "code",
   "execution_count": null,
   "metadata": {
    "collapsed": false
   },
   "outputs": [],
   "source": [
    "x_test = collect(-2*pi:0.01:2*pi)\n",
    "y_test = ground_truth(x_test)\n",
    "\n",
    "data_layer_test = MemoryDataLayer(name=\"test-data\",batch_size=1,data = Array[x_test,y_test],tops = [:data,:truth])\n",
    "acc_layer = AccuracyLayer(name=\"test-accuracy\", bottoms=[:output, :truth])\n",
    "\n",
    "test_net = Net(\"testing-net\", backend, [data_layer_test, common_layers..., acc_layer])\n",
    "\n",
    "\n",
    "yt = similar(x_test)\n",
    "yp = similar(x_test)\n",
    "xt = similar(x_test)\n",
    "\n",
    "\n",
    "for i in 1:length(x_test)\n",
    "    forward(test_net)\n",
    "    xt[i] = test_net.output_blobs[:data].data[1]\n",
    "    yt[i] = test_net.output_blobs[:truth].data[1]\n",
    "    yp[i] = test_net.output_blobs[:output].data[1]\n",
    "end\n",
    "\n",
    "plot(xt,yt)\n",
    "plot(xt,yp)\n",
    "plot(x,y,\".\",markersize=1)"
   ]
  },
  {
   "cell_type": "code",
   "execution_count": null,
   "metadata": {
    "collapsed": true
   },
   "outputs": [],
   "source": [
    "using Images\n",
    "open(\"net.dot\", \"w\") do out net2dot(out, net) end\n",
    "run(`dot -Tpng net.dot` |> \"net.png\")\n",
    "Images.imread(\"net.png\")"
   ]
  },
  {
   "cell_type": "code",
   "execution_count": null,
   "metadata": {
    "collapsed": true
   },
   "outputs": [],
   "source": [
    "data_layer_test = MemoryDataLayer(name=\"test-data\",batch_size=1,data = Array[x,y],tops = [:data,:truth])\n",
    "acc_layer = AccuracyLayer(name=\"test-accuracy\", bottoms=[:output, :truth])\n",
    "\n",
    "test_net = Net(\"testing-net\", backend, [data_layer_test, common_layers..., acc_layer])"
   ]
  },
  {
   "cell_type": "code",
   "execution_count": null,
   "metadata": {
    "collapsed": false
   },
   "outputs": [],
   "source": [
    "net.layers[2].w"
   ]
  },
  {
   "cell_type": "markdown",
   "metadata": {},
   "source": [
    "# MXNet"
   ]
  },
  {
   "cell_type": "code",
   "execution_count": 1,
   "metadata": {
    "collapsed": false
   },
   "outputs": [
    {
     "name": "stderr",
     "output_type": "stream",
     "text": [
      "INFO: Recompiling stale cache file /home/julian/.julia/lib/v0.4/MXNet.ji for module MXNet.\n"
     ]
    }
   ],
   "source": [
    "#Pkg.clone(\"git://github.com/dmlc/MXNet.jl.git\")\n",
    "using MXNet"
   ]
  },
  {
   "cell_type": "code",
   "execution_count": 61,
   "metadata": {
    "collapsed": false
   },
   "outputs": [
    {
     "data": {
      "text/plain": [
       "MXNet.mx.Symbol(MXNet.mx.MX_SymbolHandle(Ptr{Void} @0x000000000a869670))"
      ]
     },
     "execution_count": 61,
     "metadata": {},
     "output_type": "execute_result"
    }
   ],
   "source": [
    "data = mx.Variable(:data)\n",
    "fc1  = mx.FullyConnected(data = data, name=:fc1, num_hidden=10)\n",
    "act1 = mx.Activation(data = fc1, name=:relu1, act_type=:tanh)\n",
    "fc2  = mx.FullyConnected(data = act1, name=:fc2, num_hidden=1)\n",
    "# act2 = mx.Activation(data = fc2, name=:relu2, act_type=:tanh)\n",
    "#fc3  = mx.FullyConnected(data = act2,name=:fc3, num_hidden=1)\n",
    "mlp = mx.LinearRegressionOutput(data = fc2, name=:end)"
   ]
  },
  {
   "cell_type": "code",
   "execution_count": 80,
   "metadata": {
    "collapsed": false
   },
   "outputs": [],
   "source": [
    "function ground_truth(x)\n",
    "    return sin(4*x)\n",
    "end\n",
    "\n",
    "\n",
    "\n",
    "function simulate_data(x::Array)\n",
    "    noise_ampl = 0.01;\n",
    "    return map(Float32,ground_truth(x + noise_ampl*randn(size(x))))\n",
    "end\n",
    "\n",
    "\n",
    "x = Array(shuffle(collect(Float32,-1:0.01:1)));\n",
    "y = Array(Float32,size(x))\n",
    "y[:] =simulate_data(x);\n",
    "\n",
    "\n",
    "xs = ones((length(x),1))\n",
    "for (i,xi) in enumerate(x)\n",
    "    xs[i,1] = xi\n",
    "end"
   ]
  },
  {
   "cell_type": "code",
   "execution_count": 93,
   "metadata": {
    "collapsed": false,
    "scrolled": true
   },
   "outputs": [
    {
     "name": "stderr",
     "output_type": "stream",
     "text": [
      "INFO: Start training on [CPU0]\n",
      "INFO: Initializing parameters...\n",
      "INFO: Creating KVStore...\n",
      "INFO: == Epoch 001 ==========\n",
      "INFO: ## Training summary\n",
      "INFO:       :accuracy = 0.0000\n",
      "INFO:            time = 0.1838 seconds\n",
      "INFO: == Epoch 002 ==========\n",
      "INFO: ## Training summary\n",
      "INFO:       :accuracy = 0.0000\n",
      "INFO:            time = 0.1808 seconds\n",
      "INFO: == Epoch 003 ==========\n",
      "INFO: ## Training summary\n",
      "INFO:       :accuracy = 0.0000\n",
      "INFO:            time = 0.1158 seconds\n",
      "INFO: == Epoch 004 ==========\n",
      "INFO: ## Training summary\n",
      "INFO:       :accuracy = 0.0000\n",
      "INFO:            time = 0.1099 seconds\n",
      "INFO: == Epoch 005 ==========\n",
      "INFO: ## Training summary\n",
      "INFO:       :accuracy = 0.0000\n",
      "INFO:            time = 0.1072 seconds\n",
      "INFO: == Epoch 006 ==========\n",
      "INFO: ## Training summary\n",
      "INFO:       :accuracy = 0.0000\n",
      "INFO:            time = 0.1552 seconds\n",
      "INFO: == Epoch 007 ==========\n",
      "INFO: ## Training summary\n",
      "INFO:       :accuracy = 0.0000\n",
      "INFO:            time = 0.1124 seconds\n",
      "INFO: == Epoch 008 ==========\n",
      "INFO: ## Training summary\n",
      "INFO:       :accuracy = 0.0000\n",
      "INFO:            time = 0.1013 seconds\n",
      "INFO: == Epoch 009 ==========\n",
      "INFO: ## Training summary\n",
      "INFO:       :accuracy = 0.0000\n",
      "INFO:            time = 0.1529 seconds\n",
      "INFO: == Epoch 010 ==========\n",
      "INFO: ## Training summary\n",
      "INFO:       :accuracy = 0.0000\n",
      "INFO:            time = 0.1004 seconds\n",
      "INFO: == Epoch 011 ==========\n",
      "INFO: ## Training summary\n",
      "INFO:       :accuracy = 0.0000\n",
      "INFO:            time = 0.1078 seconds\n",
      "INFO: == Epoch 012 ==========\n",
      "INFO: ## Training summary\n",
      "INFO:       :accuracy = 0.0000\n",
      "INFO:            time = 0.1366 seconds\n",
      "INFO: == Epoch 013 ==========\n",
      "INFO: ## Training summary\n",
      "INFO:       :accuracy = 0.0000\n",
      "INFO:            time = 0.1498 seconds\n",
      "INFO: == Epoch 014 ==========\n",
      "INFO: ## Training summary\n",
      "INFO:       :accuracy = 0.0000\n",
      "INFO:            time = 0.0994 seconds\n",
      "INFO: == Epoch 015 ==========\n",
      "INFO: ## Training summary\n",
      "INFO:       :accuracy = 0.0000\n",
      "INFO:            time = 0.1059 seconds\n",
      "INFO: == Epoch 016 ==========\n",
      "INFO: ## Training summary\n",
      "INFO:       :accuracy = 0.0000\n",
      "INFO:            time = 0.0987 seconds\n",
      "INFO: == Epoch 017 ==========\n",
      "INFO: ## Training summary\n",
      "INFO:       :accuracy = 0.0000\n",
      "INFO:            time = 0.1346 seconds\n",
      "INFO: == Epoch 018 ==========\n",
      "INFO: ## Training summary\n",
      "INFO:       :accuracy = 0.0000\n",
      "INFO:            time = 0.1033 seconds\n",
      "INFO: == Epoch 019 ==========\n",
      "INFO: ## Training summary\n",
      "INFO:       :accuracy = 0.0000\n",
      "INFO:            time = 0.1020 seconds\n",
      "INFO: == Epoch 020 ==========\n",
      "INFO: ## Training summary\n",
      "INFO:       :accuracy = 0.0000\n",
      "INFO:            time = 0.1079 seconds\n",
      "INFO: == Epoch 021 ==========\n",
      "INFO: ## Training summary\n",
      "INFO:       :accuracy = 0.0000\n",
      "INFO:            time = 0.1466 seconds\n",
      "INFO: == Epoch 022 ==========\n",
      "INFO: ## Training summary\n",
      "INFO:       :accuracy = 0.0000\n",
      "INFO:            time = 0.1025 seconds\n",
      "INFO: == Epoch 023 ==========\n",
      "INFO: ## Training summary\n",
      "INFO:       :accuracy = 0.0000\n",
      "INFO:            time = 0.1011 seconds\n",
      "INFO: == Epoch 024 ==========\n",
      "INFO: ## Training summary\n",
      "INFO:       :accuracy = 0.0000\n",
      "INFO:            time = 0.1519 seconds\n",
      "INFO: == Epoch 025 ==========\n",
      "INFO: ## Training summary\n",
      "INFO:       :accuracy = 0.0000\n",
      "INFO:            time = 0.1035 seconds\n",
      "INFO: == Epoch 026 ==========\n",
      "INFO: ## Training summary\n",
      "INFO:       :accuracy = 0.0000\n",
      "INFO:            time = 0.1050 seconds\n",
      "INFO: == Epoch 027 ==========\n",
      "INFO: ## Training summary\n",
      "INFO:       :accuracy = 0.0000\n",
      "INFO:            time = 0.1011 seconds\n",
      "INFO: == Epoch 028 ==========\n",
      "INFO: ## Training summary\n",
      "INFO:       :accuracy = 0.0000\n",
      "INFO:            time = 0.1530 seconds\n",
      "INFO: == Epoch 029 ==========\n",
      "INFO: ## Training summary\n",
      "INFO:       :accuracy = 0.0000\n",
      "INFO:            time = 0.1441 seconds\n",
      "INFO: == Epoch 030 ==========\n",
      "INFO: ## Training summary\n",
      "INFO:       :accuracy = 0.0000\n",
      "INFO:            time = 0.1030 seconds\n",
      "INFO: == Epoch 031 ==========\n",
      "INFO: ## Training summary\n",
      "INFO:       :accuracy = 0.0000\n",
      "INFO:            time = 0.1003 seconds\n",
      "INFO: == Epoch 032 ==========\n",
      "INFO: ## Training summary\n",
      "INFO:       :accuracy = 0.0000\n",
      "INFO:            time = 0.1516 seconds\n",
      "INFO: == Epoch 033 ==========\n",
      "INFO: ## Training summary\n",
      "INFO:       :accuracy = 0.0000\n",
      "INFO:            time = 0.1013 seconds\n",
      "INFO: == Epoch 034 ==========\n",
      "INFO: ## Training summary\n",
      "INFO:       :accuracy = 0.0000\n",
      "INFO:            time = 0.1089 seconds\n",
      "INFO: == Epoch 035 ==========\n",
      "INFO: ## Training summary\n",
      "INFO:       :accuracy = 0.0000\n",
      "INFO:            time = 0.1509 seconds\n",
      "INFO: == Epoch 036 ==========\n",
      "INFO: ## Training summary\n",
      "INFO:       :accuracy = 0.0000\n",
      "INFO:            time = 0.1071 seconds\n",
      "INFO: == Epoch 037 ==========\n",
      "INFO: ## Training summary\n",
      "INFO:       :accuracy = 0.0000\n",
      "INFO:            time = 0.1074 seconds\n",
      "INFO: == Epoch 038 ==========\n",
      "INFO: ## Training summary\n",
      "INFO:       :accuracy = 0.0000\n",
      "INFO:            time = 0.1000 seconds\n",
      "INFO: == Epoch 039 ==========\n",
      "INFO: ## Training summary\n",
      "INFO:       :accuracy = 0.0000\n",
      "INFO:            time = 0.1313 seconds\n",
      "INFO: == Epoch 040 ==========\n",
      "INFO: ## Training summary\n",
      "INFO:       :accuracy = 0.0000\n",
      "INFO:            time = 0.1057 seconds\n",
      "INFO: == Epoch 041 ==========\n",
      "INFO: ## Training summary\n",
      "INFO:       :accuracy = 0.0000\n",
      "INFO:            time = 0.1085 seconds\n",
      "INFO: == Epoch 042 ==========\n",
      "INFO: ## Training summary\n",
      "INFO:       :accuracy = 0.0000\n",
      "INFO:            time = 0.1159 seconds\n",
      "INFO: == Epoch 043 ==========\n",
      "INFO: ## Training summary\n",
      "INFO:       :accuracy = 0.0000\n",
      "INFO:            time = 0.1694 seconds\n",
      "INFO: == Epoch 044 ==========\n",
      "INFO: ## Training summary\n",
      "INFO:       :accuracy = 0.0000\n",
      "INFO:            time = 0.1083 seconds\n",
      "INFO: == Epoch 045 ==========\n",
      "INFO: ## Training summary\n",
      "INFO:       :accuracy = 0.0000\n",
      "INFO:            time = 0.1253 seconds\n",
      "INFO: == Epoch 046 ==========\n",
      "INFO: ## Training summary\n",
      "INFO:       :accuracy = 0.0000\n",
      "INFO:            time = 0.1372 seconds\n",
      "INFO: == Epoch 047 ==========\n",
      "INFO: ## Training summary\n",
      "INFO:       :accuracy = 0.0000\n",
      "INFO:            time = 0.1418 seconds\n",
      "INFO: == Epoch 048 ==========\n",
      "INFO: ## Training summary\n",
      "INFO:       :accuracy = 0.0000\n",
      "INFO:            time = 0.1091 seconds\n",
      "INFO: == Epoch 049 ==========\n",
      "INFO: ## Training summary\n",
      "INFO:       :accuracy = 0.0000\n",
      "INFO:            time = 0.1065 seconds\n",
      "INFO: == Epoch 050 ==========\n",
      "INFO: ## Training summary\n",
      "INFO:       :accuracy = 0.0000\n",
      "INFO:            time = 0.2084 seconds\n",
      "INFO: == Epoch 051 ==========\n",
      "INFO: ## Training summary\n",
      "INFO:       :accuracy = 0.0000\n",
      "INFO:            time = 0.1223 seconds\n",
      "INFO: == Epoch 052 ==========\n",
      "INFO: ## Training summary\n",
      "INFO:       :accuracy = 0.0000\n",
      "INFO:            time = 0.1081 seconds\n",
      "INFO: == Epoch 053 ==========\n",
      "INFO: ## Training summary\n",
      "INFO:       :accuracy = 0.0000\n",
      "INFO:            time = 0.1071 seconds\n",
      "INFO: == Epoch 054 ==========\n",
      "INFO: ## Training summary\n",
      "INFO:       :accuracy = 0.0000\n",
      "INFO:            time = 0.1562 seconds\n",
      "INFO: == Epoch 055 ==========\n",
      "INFO: ## Training summary\n",
      "INFO:       :accuracy = 0.0000\n",
      "INFO:            time = 0.1051 seconds\n",
      "INFO: == Epoch 056 ==========\n",
      "INFO: ## Training summary\n",
      "INFO:       :accuracy = 0.0000\n",
      "INFO:            time = 0.1063 seconds\n",
      "INFO: == Epoch 057 ==========\n",
      "INFO: ## Training summary\n",
      "INFO:       :accuracy = 0.0000\n",
      "INFO:            time = 0.1000 seconds\n",
      "INFO: == Epoch 058 ==========\n",
      "INFO: ## Training summary\n",
      "INFO:       :accuracy = 0.0000\n",
      "INFO:            time = 0.2406 seconds\n",
      "INFO: == Epoch 059 ==========\n",
      "INFO: ## Training summary\n",
      "INFO:       :accuracy = 0.0000\n",
      "INFO:            time = 0.1021 seconds\n",
      "INFO: == Epoch 060 ==========\n",
      "INFO: ## Training summary\n",
      "INFO:       :accuracy = 0.0000\n",
      "INFO:            time = 0.1079 seconds\n",
      "INFO: == Epoch 061 ==========\n",
      "INFO: ## Training summary\n",
      "INFO:       :accuracy = 0.0000\n",
      "INFO:            time = 0.1764 seconds\n",
      "INFO: == Epoch 062 ==========\n",
      "INFO: ## Training summary\n",
      "INFO:       :accuracy = 0.0000\n",
      "INFO:            time = 0.1006 seconds\n",
      "INFO: == Epoch 063 ==========\n",
      "INFO: ## Training summary\n",
      "INFO:       :accuracy = 0.0000\n",
      "INFO:            time = 0.1011 seconds\n",
      "INFO: == Epoch 064 ==========\n",
      "INFO: ## Training summary\n",
      "INFO:       :accuracy = 0.0000\n",
      "INFO:            time = 0.1043 seconds\n",
      "INFO: == Epoch 065 ==========\n",
      "INFO: ## Training summary\n",
      "INFO:       :accuracy = 0.0000\n",
      "INFO:            time = 0.1509 seconds\n",
      "INFO: == Epoch 066 ==========\n",
      "INFO: ## Training summary\n",
      "INFO:       :accuracy = 0.0000\n",
      "INFO:            time = 0.1070 seconds\n",
      "INFO: == Epoch 067 ==========\n",
      "INFO: ## Training summary\n",
      "INFO:       :accuracy = 0.0000\n",
      "INFO:            time = 0.1039 seconds\n",
      "INFO: == Epoch 068 ==========\n",
      "INFO: ## Training summary\n",
      "INFO:       :accuracy = 0.0000\n",
      "INFO:            time = 0.1079 seconds\n",
      "INFO: == Epoch 069 ==========\n",
      "INFO: ## Training summary\n",
      "INFO:       :accuracy = 0.0000\n",
      "INFO:            time = 0.1549 seconds\n",
      "INFO: == Epoch 070 ==========\n",
      "INFO: ## Training summary\n",
      "INFO:       :accuracy = 0.0000\n",
      "INFO:            time = 0.1035 seconds\n",
      "INFO: == Epoch 071 ==========\n",
      "INFO: ## Training summary\n",
      "INFO:       :accuracy = 0.0000\n",
      "INFO:            time = 0.1043 seconds\n",
      "INFO: == Epoch 072 ==========\n",
      "INFO: ## Training summary\n",
      "INFO:       :accuracy = 0.0000\n",
      "INFO:            time = 0.1068 seconds\n",
      "INFO: == Epoch 073 ==========\n",
      "INFO: ## Training summary\n",
      "INFO:       :accuracy = 0.0000\n",
      "INFO:            time = 0.1395 seconds\n",
      "INFO: == Epoch 074 ==========\n",
      "INFO: ## Training summary\n",
      "INFO:       :accuracy = 0.0000\n",
      "INFO:            time = 0.1128 seconds\n",
      "INFO: == Epoch 075 ==========\n",
      "INFO: ## Training summary\n",
      "INFO:       :accuracy = 0.0000\n",
      "INFO:            time = 0.1067 seconds\n",
      "INFO: == Epoch 076 ==========\n",
      "INFO: ## Training summary\n",
      "INFO:       :accuracy = 0.0000\n",
      "INFO:            time = 0.1565 seconds\n",
      "INFO: == Epoch 077 ==========\n",
      "INFO: ## Training summary\n",
      "INFO:       :accuracy = 0.0000\n",
      "INFO:            time = 0.1436 seconds\n",
      "INFO: == Epoch 078 ==========\n",
      "INFO: ## Training summary\n",
      "INFO:       :accuracy = 0.0000\n",
      "INFO:            time = 0.1039 seconds\n",
      "INFO: == Epoch 079 ==========\n",
      "INFO: ## Training summary\n",
      "INFO:       :accuracy = 0.0000\n",
      "INFO:            time = 0.1033 seconds\n",
      "INFO: == Epoch 080 ==========\n",
      "INFO: ## Training summary\n",
      "INFO:       :accuracy = 0.0000\n",
      "INFO:            time = 0.1510 seconds\n",
      "INFO: == Epoch 081 ==========\n",
      "INFO: ## Training summary\n",
      "INFO:       :accuracy = 0.0000\n",
      "INFO:            time = 0.1063 seconds\n",
      "INFO: == Epoch 082 ==========\n",
      "INFO: ## Training summary\n",
      "INFO:       :accuracy = 0.0000\n",
      "INFO:            time = 0.1112 seconds\n",
      "INFO: == Epoch 083 ==========\n",
      "INFO: ## Training summary\n",
      "INFO:       :accuracy = 0.0000\n",
      "INFO:            time = 0.1042 seconds\n",
      "INFO: == Epoch 084 ==========\n",
      "INFO: ## Training summary\n",
      "INFO:       :accuracy = 0.0000\n",
      "INFO:            time = 0.1552 seconds\n",
      "INFO: == Epoch 085 ==========\n",
      "INFO: ## Training summary\n",
      "INFO:       :accuracy = 0.0000\n",
      "INFO:            time = 0.1126 seconds\n",
      "INFO: == Epoch 086 ==========\n",
      "INFO: ## Training summary\n",
      "INFO:       :accuracy = 0.0000\n",
      "INFO:            time = 0.1060 seconds\n",
      "INFO: == Epoch 087 ==========\n",
      "INFO: ## Training summary\n",
      "INFO:       :accuracy = 0.0000\n",
      "INFO:            time = 0.1545 seconds\n",
      "INFO: == Epoch 088 ==========\n",
      "INFO: ## Training summary\n",
      "INFO:       :accuracy = 0.0000\n",
      "INFO:            time = 0.1051 seconds\n",
      "INFO: == Epoch 089 ==========\n",
      "INFO: ## Training summary\n",
      "INFO:       :accuracy = 0.0000\n",
      "INFO:            time = 0.1014 seconds\n",
      "INFO: == Epoch 090 ==========\n",
      "INFO: ## Training summary\n",
      "INFO:       :accuracy = 0.0000\n",
      "INFO:            time = 0.1065 seconds\n",
      "INFO: == Epoch 091 ==========\n",
      "INFO: ## Training summary\n",
      "INFO:       :accuracy = 0.0000\n",
      "INFO:            time = 0.1555 seconds\n",
      "INFO: == Epoch 092 ==========\n",
      "INFO: ## Training summary\n",
      "INFO:       :accuracy = 0.0000\n",
      "INFO:            time = 0.1054 seconds\n",
      "INFO: == Epoch 093 ==========\n",
      "INFO: ## Training summary\n",
      "INFO:       :accuracy = 0.0000\n",
      "INFO:            time = 0.1073 seconds\n",
      "INFO: == Epoch 094 ==========\n",
      "INFO: ## Training summary\n",
      "INFO:       :accuracy = 0.0000\n",
      "INFO:            time = 0.1455 seconds\n",
      "INFO: == Epoch 095 ==========\n",
      "INFO: ## Training summary\n",
      "INFO:       :accuracy = 0.0000\n",
      "INFO:            time = 0.1515 seconds\n",
      "INFO: == Epoch 096 ==========\n",
      "INFO: ## Training summary\n",
      "INFO:       :accuracy = 0.0000\n",
      "INFO:            time = 0.1056 seconds\n",
      "INFO: == Epoch 097 ==========\n",
      "INFO: ## Training summary\n",
      "INFO:       :accuracy = 0.0000\n",
      "INFO:            time = 0.1081 seconds\n",
      "INFO: == Epoch 098 ==========\n",
      "INFO: ## Training summary\n",
      "INFO:       :accuracy = 0.0000\n",
      "INFO:            time = 0.1103 seconds\n",
      "INFO: == Epoch 099 ==========\n",
      "INFO: ## Training summary\n",
      "INFO:       :accuracy = 0.0000\n",
      "INFO:            time = 0.1562 seconds\n",
      "INFO: == Epoch 100 ==========\n",
      "INFO: ## Training summary\n"
     ]
    }
   ],
   "source": [
    "batch_size = 20\n",
    "#include(\"mnist-data.jl\")\n",
    "train_provider = mx.ArrayDataProvider(Pair(:data,x'),Pair(:end_label,y))\n",
    "model = mx.FeedForward(mlp, context=mx.cpu())\n",
    "optimizer = mx.SGD(lr=0.02, momentum=0.9, weight_decay=0.00001)\n",
    "mx.fit(model, optimizer, train_provider, n_epoch=100,eval_metric=mx.Accuracy())"
   ]
  },
  {
   "cell_type": "code",
   "execution_count": 94,
   "metadata": {
    "collapsed": false
   },
   "outputs": [
    {
     "data": {
      "image/png": "[encoded data removed]",
      "text/plain": [
       "PyPlot.Figure(PyObject <matplotlib.figure.Figure object at 0xdb9ab50>)"
      ]
     },
     "metadata": {},
     "output_type": "display_data"
    },
    {
     "data": {
      "text/plain": [
       "1-element Array{Any,1}:\n",
       " PyObject <matplotlib.lines.Line2D object at 0xe195290>"
      ]
     },
     "execution_count": 94,
     "metadata": {},
     "output_type": "execute_result"
    },
    {
     "name": "stderr",
     "output_type": "stream",
     "text": [
      "INFO:       :accuracy = 0.0000\n",
      "INFO:            time = 0.1133 seconds\n"
     ]
    }
   ],
   "source": [
    "using PyPlot\n",
    "plot(x,y,\".\")\n",
    "plot(x,mx.predict(model,train_provider)',\"o\")"
   ]
  },
  {
   "cell_type": "code",
   "execution_count": null,
   "metadata": {
    "collapsed": false
   },
   "outputs": [],
   "source": [
    "@show model.arg_params\n",
    "@show copy(model.arg_params[:fc3_bias])"
   ]
  },
  {
   "cell_type": "code",
   "execution_count": null,
   "metadata": {
    "collapsed": false
   },
   "outputs": [],
   "source": [
    "mx.fit(model, optimizer, train_provider, n_epoch=50,eval_metric=Loss())"
   ]
  },
  {
   "cell_type": "code",
   "execution_count": 11,
   "metadata": {
    "collapsed": false,
    "scrolled": true
   },
   "outputs": [
    {
     "ename": "LoadError",
     "evalue": "LoadError: UndefVarError: ys not defined\nwhile loading In[11], in expression starting on line 1",
     "output_type": "error",
     "traceback": [
      "LoadError: UndefVarError: ys not defined\nwhile loading In[11], in expression starting on line 1",
      ""
     ]
    }
   ],
   "source": [
    "mx.infer_shape(mlp,data = size(xs')),ys"
   ]
  },
  {
   "cell_type": "code",
   "execution_count": null,
   "metadata": {
    "collapsed": false
   },
   "outputs": [],
   "source": [
    "length(x)"
   ]
  },
  {
   "cell_type": "code",
   "execution_count": null,
   "metadata": {
    "collapsed": false
   },
   "outputs": [],
   "source": [
    "Loss <: mx.AbstractEvalMetric"
   ]
  },
  {
   "cell_type": "code",
   "execution_count": 20,
   "metadata": {
    "collapsed": false
   },
   "outputs": [
    {
     "data": {
      "text/plain": [
       "1x201 Array{Float32,2}:\n",
       " 3.0  1.0  1.0  3.0  1.0  1.0  3.0  3.0  …  3.0  3.0  1.0  1.0  1.0  1.0  3.0"
      ]
     },
     "execution_count": 20,
     "metadata": {},
     "output_type": "execute_result"
    }
   ],
   "source": [
    "ys = reshape(y,(1,length(y)))"
   ]
  },
  {
   "cell_type": "code",
   "execution_count": null,
   "metadata": {
    "collapsed": false
   },
   "outputs": [],
   "source": [
    "type Loss <: mx.AbstractEvalMetric\n",
    "    loss_ave  :: Float64\n",
    "  n_sample :: Int\n",
    "\n",
    "    Loss() = new(0.0, 0)\n",
    "end\n",
    "\n",
    "function _update_single_output(metric :: Loss, label :: mx.NDArray, pred :: mx.NDArray)\n",
    "  label = copy(label)\n",
    "  pred  = copy(pred)\n",
    "\n",
    "  n_sample = size(pred)[end]\n",
    "  metric.n_sample += n_sample\n",
    "    metric.loss_ave += norm(label-pred)\n",
    "    #println(\"$(sub(pred,:,i)) $(klass-1) <=> $(label[i])\")\n",
    "end\n",
    "\n",
    "function update!(metric :: Loss, labels :: Vector{mx.NDArray}, preds :: Vector{mx.NDArray})\n",
    "  @assert length(labels) == length(preds)\n",
    "  for i = 1:length(labels)\n",
    "    _update_single_output(metric, labels[i], preds[i])\n",
    "  end\n",
    "end\n",
    "\n",
    "import Base: get\n",
    "function get(metric :: Loss)\n",
    "    return [(:accuracy, metric.loss_ave / metric.n_sample)]\n",
    "end\n",
    "\n",
    "function reset!(metric :: Loss)\n",
    "    metric.loss_ave  = 0.0\n",
    "  metric.n_sample = 0\n",
    "end\n"
   ]
  },
  {
   "cell_type": "code",
   "execution_count": null,
   "metadata": {
    "collapsed": false
   },
   "outputs": [],
   "source": [
    "isa(ev,mx.AbstractEvalMetric)"
   ]
  },
  {
   "cell_type": "code",
   "execution_count": null,
   "metadata": {
    "collapsed": false
   },
   "outputs": [],
   "source": [
    "reset!(ev)"
   ]
  },
  {
   "cell_type": "code",
   "execution_count": 45,
   "metadata": {
    "collapsed": false
   },
   "outputs": [
    {
     "data": {
      "text/plain": [
       "0-element Array{Any,1}"
      ]
     },
     "execution_count": 45,
     "metadata": {},
     "output_type": "execute_result"
    }
   ],
   "source": [
    "xss = Vector()\n",
    "yss = Vector()\n"
   ]
  },
  {
   "cell_type": "code",
   "execution_count": 46,
   "metadata": {
    "collapsed": false
   },
   "outputs": [],
   "source": [
    "for xi in x\n",
    "    push!(xss,[xi])\n",
    "end\n",
    "\n",
    "for yi in y\n",
    "    push!(yss,[yi])\n",
    "end"
   ]
  },
  {
   "cell_type": "code",
   "execution_count": 13,
   "metadata": {
    "collapsed": false
   },
   "outputs": [
    {
     "data": {
      "text/plain": [
       "0.0"
      ]
     },
     "execution_count": 13,
     "metadata": {},
     "output_type": "execute_result"
    }
   ],
   "source": [
    "norm(zeros(2,2))"
   ]
  },
  {
   "cell_type": "code",
   "execution_count": null,
   "metadata": {
    "collapsed": true
   },
   "outputs": [],
   "source": [
    "B"
   ]
  }
 ],
 "metadata": {
  "kernelspec": {
   "display_name": "Julia 0.4.0-pre",
   "language": "julia",
   "name": "julia-0.4"
  },
  "language_info": {
   "file_extension": ".jl",
   "mimetype": "application/julia",
   "name": "julia",
   "version": "0.4.0"
  }
 },
 "nbformat": 4,
 "nbformat_minor": 0
}
