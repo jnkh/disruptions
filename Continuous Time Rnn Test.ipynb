{
 "cells": [
  {
   "cell_type": "code",
   "execution_count": null,
   "metadata": {
    "collapsed": false
   },
   "outputs": [],
   "source": [
    "#Pkg.rm(\"TensorOperations\")\n",
    "#Pkg.free(\"git://github.com/Jutho/TensorOperations.jl.git\")\n",
    "versioninfo()"
   ]
  },
  {
   "cell_type": "code",
   "execution_count": 1,
   "metadata": {
    "collapsed": false
   },
   "outputs": [
    {
     "data": {
      "text/plain": [
       "2"
      ]
     },
     "execution_count": 1,
     "metadata": {},
     "output_type": "execute_result"
    }
   ],
   "source": [
    "1+1"
   ]
  },
  {
   "cell_type": "code",
   "execution_count": 2,
   "metadata": {
    "collapsed": false
   },
   "outputs": [
    {
     "name": "stderr",
     "output_type": "stream",
     "text": [
      "INFO: Updating METADATA...\n",
      "WARNING: unknown MXNet commit f099670c, metadata may be ahead of package cache\n",
      "WARNING: unknown MXNet commit 189e755b, metadata may be ahead of package cache\n",
      "WARNING: unknown MXNet commit 67c8bb2d, metadata may be ahead of package cache\n",
      "INFO: Computing changes...\n",
      "WARNING: julia is fixed at 0.4.1 conflicting with requirement for Cartesian: [0.3.0,0.4.0)\n",
      "INFO: No packages to install, update or remove\n",
      "INFO: Nothing to be done\n",
      "INFO: METADATA might be out-of-date — you may not have the latest version of TensorOperations\n",
      "INFO: Use `Pkg.update()` to get the latest versions of your packages\n"
     ]
    },
    {
     "ename": "LoadError",
     "evalue": "LoadError: LoadError: LoadError: MethodError: `start` has no method matching start(::Type{Symbol})\nwhile loading /home/julian/.julia/v0.4/Cartesian/src/Cartesian.jl, in expression starting on line 142\nwhile loading /home/julian/.julia/v0.4/TensorOperations/src/TensorOperations.jl, in expression starting on line 28\nwhile loading In[2], in expression starting on line 4",
     "output_type": "error",
     "traceback": [
      "LoadError: LoadError: LoadError: MethodError: `start` has no method matching start(::Type{Symbol})\nwhile loading /home/julian/.julia/v0.4/Cartesian/src/Cartesian.jl, in expression starting on line 142\nwhile loading /home/julian/.julia/v0.4/TensorOperations/src/TensorOperations.jl, in expression starting on line 28\nwhile loading In[2], in expression starting on line 4",
      "",
      " in append_any at essentials.jl:127",
      " in include at ./boot.jl:261",
      " in include_from_node1 at ./loading.jl:304",
      " in require at ./loading.jl:243",
      " in include at ./boot.jl:261",
      " in include_from_node1 at ./loading.jl:304",
      " in require at ./loading.jl:243"
     ]
    },
    {
     "name": "stderr",
     "output_type": "stream",
     "text": [
      "WARNING: Base.String is deprecated, use AbstractString instead.\n",
      "  likely near /home/julian/.julia/v0.4/TensorOperations/src/TensorOperations.jl:11\n",
      "WARNING: Base.String is deprecated, use AbstractString instead.\n",
      "  likely near /home/julian/.julia/v0.4/TensorOperations/src/TensorOperations.jl:11\n"
     ]
    }
   ],
   "source": [
    "Pkg.update()\n",
    "Pkg.add(\"TensorOperations\")\n",
    "#Pkg.add(\"PyPlot\")\n",
    "using TensorOperations\n",
    "TO = TensorOperations"
   ]
  },
  {
   "cell_type": "code",
   "execution_count": 48,
   "metadata": {
    "collapsed": false
   },
   "outputs": [
    {
     "data": {
      "text/plain": [
       "print (generic function with 1 method)"
      ]
     },
     "execution_count": 48,
     "metadata": {},
     "output_type": "execute_result"
    }
   ],
   "source": [
    "\n",
    "#Pkg.add(\"IndexNotation\")\n",
    "\n",
    "type SimpleRnn\n",
    "    \n",
    "    sigma::Function\n",
    "    sigma_prime::Function\n",
    "\n",
    "    C::Array\n",
    "    Ws::Array\n",
    "    Wx::Array\n",
    "    b::Array\n",
    "\n",
    "    grad_C::Array\n",
    "    grad_Ws::Array\n",
    "    grad_Wx::Array\n",
    "    grad_b::Array\n",
    "    \n",
    "    s::Array\n",
    "    dt::Real\n",
    "    \n",
    "    timesteps::Int\n",
    "    \n",
    "    function SimpleRnn(size_x,size_s,dt = 1e-2)\n",
    "        C = randn((size_x,size_s))\n",
    "        sigma(z) = tanh(z)#sign(z).*abs(z).^0.5 #tanh(z)\n",
    "        sigma_prime(z) = sech(z).^2#0.5*sign(z).*abs(z).^(-0.5)#sech(z).^2\n",
    "        \n",
    "        Wx = randn((size_s,size_x))\n",
    "        Ws = randn((size_s,size_s))\n",
    "        \n",
    "        grad_C = zeros((size_s,size_x,size_s))\n",
    "        grad_Ws = zeros((size_s,size_s,size_s))\n",
    "        grad_Wx = zeros((size_s,size_s,size_x))\n",
    "        grad_b = zeros((size_s,size_s,1))\n",
    "        b = zeros((size_s,1))\n",
    "        s = zeros((size_s,1))\n",
    "        timesteps = 0\n",
    "        rnn = new(sigma,sigma_prime,C,Ws,Wx,b,grad_C,grad_Ws,grad_Wx,grad_b,s,dt,timesteps)\n",
    "        return rnn\n",
    "    end\n",
    "end\n",
    "\n",
    "function print(rnn::SimpleRnn)\n",
    "    println(\"rnn:\")\n",
    "    println(\"C: $(rnn.C)\")\n",
    "    println(\"Ws: $(rnn.Ws)\")\n",
    "    println(\"Ws: $(rnn.Wx)\")\n",
    "    println(\"b: $(rnn.b)\")\n",
    "    println(\"s: $(rnn.s)\")\n",
    "    println()\n",
    "end"
   ]
  },
  {
   "cell_type": "code",
   "execution_count": 29,
   "metadata": {
    "collapsed": false
   },
   "outputs": [
    {
     "data": {
      "text/plain": [
       "kronecker_delta (generic function with 1 method)"
      ]
     },
     "execution_count": 29,
     "metadata": {},
     "output_type": "execute_result"
    }
   ],
   "source": [
    "\n",
    "using PyPlot\n",
    "\n",
    "function mod_to_length(i,len)\n",
    "    i = i % len\n",
    "    if i == 0 i = len end\n",
    "    i\n",
    "end\n",
    "\n",
    "function forward(rnn::SimpleRnn,x)\n",
    "    z = rnn.Wx*x + rnn.Ws*rnn.s + rnn.b\n",
    "    ds = rnn.sigma(z)\n",
    "    x_next = rnn.C*rnn.s\n",
    "    rnn.s += rnn.dt*ds\n",
    "    return x_next\n",
    "end\n",
    "\n",
    "function set_state(rnn::SimpleRnn)\n",
    "    rnn.s *= 0\n",
    "    rnn.grad_Ws *= 0\n",
    "    rnn.grad_b *= 0\n",
    "    rnn.grad_Wx *= 0\n",
    "    rnn.grad_C *= 0\n",
    "end\n",
    "\n",
    "gamma = 0.0\n",
    "function forward_online(rnn::SimpleRnn,x,x_next_true,verbose=false)\n",
    "    #timestep\n",
    "\n",
    "    \n",
    "    \n",
    "    z = rnn.Wx*x + rnn.Ws*rnn.s + rnn.b\n",
    "    \n",
    "    x_next_pred = rnn.C*rnn.s\n",
    "    delta = (x_next_pred - x_next_true)\n",
    "\n",
    "    #compute learning update signals\n",
    "    dWs = reshape(contract_2_3_idx_last_first(delta'*rnn.C,rnn.grad_Ws),size(rnn.Ws)) #TO.tensorcontract(delta'*C,[\"a\",\"k\"] ,grad_W_s,[\"k\",\"i\",\"j\"])\n",
    "    dWx = reshape(contract_2_3_idx_last_first(delta'*rnn.C,rnn.grad_Wx),size(rnn.Wx))\n",
    "    db = reshape(contract_2_3_idx_last_first(delta'*rnn.C,rnn.grad_b),size(rnn.b))\n",
    "    dC = get_dC(rnn,delta) + reshape(contract_2_3_idx_last_first(delta'*rnn.C,rnn.grad_C),size(rnn.C))\n",
    "\n",
    "    \n",
    "    #compute temporal update signals\n",
    "    d_grad_Ws = get_d_grad_Ws(rnn,z) - gamma*rnn.grad_Ws\n",
    "    d_grad_b = get_d_grad_b(rnn,z) - gamma*rnn.grad_b\n",
    "    d_grad_Wx = get_d_grad_Wx(rnn,z,x) - gamma*rnn.grad_Wx\n",
    "    d_grad_C = get_d_grad_C(rnn,z) - gamma*rnn.grad_C\n",
    "    \n",
    "    ds = rnn.sigma(z) - gamma*rnn.s\n",
    "    \n",
    "\n",
    "    #update temporal dynamics\n",
    "    rnn.grad_b += rnn.dt*d_grad_b\n",
    "    rnn.grad_Wx += rnn.dt*d_grad_Wx\n",
    "    rnn.grad_Ws += rnn.dt*d_grad_Ws\n",
    "    rnn.grad_C += rnn.dt*d_grad_C\n",
    "\n",
    "    rnn.s += rnn.dt*ds\n",
    "    \n",
    "    #update weights\n",
    "    learning_rate = 0.01#0.01*(0.998)^rnn.timesteps#min(0.07,norm(delta))\n",
    "    clip_gradients = true\n",
    "    lo = -Inf\n",
    "    hi = Inf\n",
    "    \n",
    "    if clip_gradients\n",
    "        lo = -5\n",
    "        hi = 5\n",
    "    end\n",
    "\n",
    "    dtc = dtw = dtb = learning_rate*rnn.dt\n",
    "    \n",
    "    if rand() < 1.1\n",
    "        rnn.Ws -= dtw*clamp(dWs,lo,hi)\n",
    "        rnn.Wx -= dtw*clamp(dWx,lo,hi)\n",
    "        rnn.C -= dtc*clamp(dC,lo,hi)\n",
    "        rnn.b -= dtb*clamp(db,lo,hi)\n",
    "        #println(mean(abs(dWs)), \" \", mean(abs(dWx)), \" \", mean(abs(dC)), \" \", mean(abs(db)))\n",
    "    end\n",
    "        \n",
    "    if verbose\n",
    "        println(rnn)\n",
    "        println()\n",
    "    end\n",
    "        \n",
    "    rnn.timesteps += 1\n",
    "    return x_next_pred\n",
    "    #TODO\n",
    "    #fix 3d array arithmetic\n",
    "    #gradient checks\n",
    "end\n",
    "\n",
    "function forward_predict(rnn::SimpleRnn,x)    \n",
    "    z = rnn.Wx*x + rnn.Ws*rnn.s + rnn.b\n",
    "    x_next_pred = rnn.C*rnn.s\n",
    "\n",
    "    ds = rnn.sigma(z) - gamma*rnn.s\n",
    "    rnn.s += rnn.dt*ds    \n",
    "    return x_next_pred\n",
    "end\n",
    "\n",
    "function get_dWx(rnn::SimpleRnn,delta,x,z)\n",
    "    size_ = size(rnn.Wx)\n",
    "    dWx = similar(rnn.Wx)\n",
    "    for i = 1:size_[1]\n",
    "        for j = 1:size_[2]\n",
    "            dWx[i,j] = dot(delta'[:],rnn.C[:,i]).*rnn.sigma_prime(z[i])*x[j]\n",
    "        end\n",
    "    end\n",
    "    dWx\n",
    "end\n",
    "\n",
    "function get_dC(rnn::SimpleRnn,delta)\n",
    "    size_ = size(rnn.C)\n",
    "    dC = similar(rnn.C)\n",
    "    for i = 1:size_[1]\n",
    "        for j = 1:size_[2]\n",
    "            dC[i,j] = delta[i]*rnn.s[j]\n",
    "        end\n",
    "    end\n",
    "    dC\n",
    "end\n",
    "\n",
    "function get_d_grad_C(rnn::SimpleRnn,z)\n",
    "    size_ = size(rnn.grad_C)\n",
    "    d_grad_C = similar(rnn.grad_C)\n",
    "    second_term =  contract_2_3_idx_last_first(rnn.Ws,rnn.grad_C)\n",
    "    for k = 1:size_[1]\n",
    "        for i = 1:size_[2]\n",
    "            for j = 1:size_[3]\n",
    "                d_grad_C[k,i,j] = rnn.sigma_prime(z[k]) \n",
    "                *(second_term[k,i,j])\n",
    "#                 TO.tensorcontract(rnn.grad_Ws,[\"i\",\"j\",\"l\"], rnn.Ws,[\"k\",\"l\"]))                \n",
    "            end\n",
    "        end\n",
    "    end\n",
    "    return d_grad_C\n",
    "end\n",
    "\n",
    "\n",
    "\n",
    "\n",
    "function get_d_grad_Ws(rnn::SimpleRnn,z)\n",
    "    size_ = size(rnn.grad_Ws)\n",
    "    d_grad_Ws = similar(rnn.grad_Ws)\n",
    "    second_term =  contract_2_3_idx_last_first(rnn.Ws,rnn.grad_Ws)\n",
    "    for k = 1:size_[1]\n",
    "        for i = 1:size_[2]\n",
    "            for j = 1:size_[3]\n",
    "                d_grad_Ws[k,i,j] = rnn.sigma_prime(z[k]) \n",
    "                *(kronecker_delta(i,k)*rnn.s[j] +second_term[k,i,j])\n",
    "#                 TO.tensorcontract(rnn.grad_Ws,[\"i\",\"j\",\"l\"], rnn.Ws,[\"k\",\"l\"]))                \n",
    "            end\n",
    "        end\n",
    "    end\n",
    "    return d_grad_Ws\n",
    "end\n",
    "\n",
    "function get_d_grad_Wx(rnn::SimpleRnn,z,x)\n",
    "    size_ = size(rnn.grad_Wx)\n",
    "    d_grad_Wx = similar(rnn.grad_Wx)\n",
    "    second_term =  contract_2_3_idx_last_first(rnn.Ws,rnn.grad_Wx)\n",
    "    for k = 1:size_[1]\n",
    "        for i = 1:size_[2]\n",
    "            for j = 1:size_[3]\n",
    "                d_grad_Wx[k,i,j] = rnn.sigma_prime(z[k]) \n",
    "                *(kronecker_delta(i,k)*x[j] +second_term[k,i,j])\n",
    "#                 TO.tensorcontract(rnn.grad_Ws,[\"i\",\"j\",\"l\"], rnn.Ws,[\"k\",\"l\"]))                \n",
    "            end\n",
    "        end\n",
    "    end\n",
    "    return d_grad_Wx\n",
    "end\n",
    "\n",
    "function get_d_grad_b(rnn::SimpleRnn,z)\n",
    "    size_ = size(rnn.grad_b)\n",
    "    d_grad_b = similar(rnn.grad_b)\n",
    "    second_term =  contract_2_3_idx_last_first(rnn.Ws,rnn.grad_b)\n",
    "    for k = 1:size_[1]\n",
    "        for i = 1:size_[2]\n",
    "            for j = 1:size_[3]\n",
    "                d_grad_b[k,i,j] = rnn.sigma_prime(z[k]) \n",
    "                *(kronecker_delta(i,k) +second_term[k,i,j])\n",
    "#                 TO.tensorcontract(rnn.grad_Ws,[\"i\",\"j\",\"l\"], rnn.Ws,[\"k\",\"l\"]))                \n",
    "            end\n",
    "        end\n",
    "    end\n",
    "    return d_grad_b\n",
    "end\n",
    "\n",
    "function contract_2_3_idx_last_first(a::Array,b::Array)\n",
    "    @assert (length(size(a)) == 2 && length(size(b)) == 3)\n",
    "    c = Array(eltype(a),(size(a)[1],size(b)[2],size(b)[3]))\n",
    "    for i = 1:size(a)[1]\n",
    "        for j = 1:size(b)[2]\n",
    "            for k = 1:size(b)[3]\n",
    "                tmp = 0\n",
    "                for l = 1:size(b)[1]\n",
    "                    tmp += a[i,l]*b[l,j,k]\n",
    "                end\n",
    "                c[i,j,k] = tmp\n",
    "            end\n",
    "        end\n",
    "    end\n",
    "    return c\n",
    "end\n",
    "\n",
    "function contract_3_2_idx_last_last(a::Array,b::Array)\n",
    "    @assert (length(size(a)) == 3 && length(size(b)) == 2)\n",
    "    c = Array(eltype(a),(size(a)[1],size(a)[2],size(b)[1]))\n",
    "    for i = 1:size(a)[1]\n",
    "        for j = 1:size(a)[2]\n",
    "            for k = 1:size(b)[1]\n",
    "                tmp = 0\n",
    "                for l = 1:size(b)[2]\n",
    "                    tmp += a[i,j,l]*b[k,l]\n",
    "                end\n",
    "                c[i,j,k] = tmp\n",
    "            end\n",
    "        end\n",
    "    end\n",
    "    return c\n",
    "end\n",
    "\n",
    "function kronecker_delta(i::Int,j::Int)\n",
    "    return i == j ? 1 : 0\n",
    "end\n"
   ]
  },
  {
   "cell_type": "code",
   "execution_count": null,
   "metadata": {
    "collapsed": false
   },
   "outputs": [],
   "source": [
    "print(rnn)"
   ]
  },
  {
   "cell_type": "code",
   "execution_count": 5,
   "metadata": {
    "collapsed": false
   },
   "outputs": [
    {
     "data": {
      "text/plain": [
       "step_forward_online (generic function with 2 methods)"
      ]
     },
     "execution_count": 5,
     "metadata": {},
     "output_type": "execute_result"
    }
   ],
   "source": [
    "#rnn = SimpleRnn(2,4)\n",
    "function step_forward(rnn::SimpleRnn,x_0,n_steps;tracking=false)\n",
    "    if tracking\n",
    "        outs = []\n",
    "        push!(outs,x_0)\n",
    "    end\n",
    "    for i = 1:n_steps\n",
    "        x_0 = forward(rnn,x_0)\n",
    "        if tracking push!(outs,x_0) end\n",
    "    end\n",
    "    if tracking return outs else return x_0 end\n",
    "end\n",
    "\n",
    "function concat_list_of_arrays(array_list)\n",
    "    return reduce((x,y) -> cat(2,x,y),array_list)'\n",
    "end\n",
    "\n",
    "\n",
    "\n",
    "\n",
    "function step_forward_online(rnn::SimpleRnn,x_0,n_steps,tracking=false)\n",
    "\n",
    "end"
   ]
  },
  {
   "cell_type": "code",
   "execution_count": 49,
   "metadata": {
    "collapsed": false
   },
   "outputs": [],
   "source": [
    "rnn = SimpleRnn(1,2,0.01)\n",
    "x = sin(collect(0:0.01:30))\n",
    "outs = []\n",
    "real_outs = []\n",
    "training_length = 4*length(x)\n",
    "instances = 1\n",
    "for i = 1:instances*training_length\n",
    "    if i % (training_length) == 1\n",
    "        set_state(rnn)\n",
    "    end\n",
    "    i % 2000 == 2000 ? verbose = true : verbose = false\n",
    "    cur,next = mod_to_length(i,length(x)),mod_to_length(i+1,length(x))\n",
    "    push!(outs,forward_online(rnn,[x[cur]],[x[next]],verbose))\n",
    "    push!(real_outs,x[next])\n",
    "end\n",
    "\n",
    "for i = instances*training_length+1:instances*training_length+length(x)\n",
    "    if i % (training_length) == 1\n",
    "        set_state(rnn)\n",
    "    end\n",
    "    cur,next = mod_to_length(i,length(x)),mod_to_length(i+1,length(x))\n",
    "    push!(outs,forward_predict(rnn,outs[end]))\n",
    "    push!(real_outs,x[next])\n",
    "    \n",
    "end\n",
    "\n",
    "\n",
    "\n",
    "#forward(rnn,[1,2])\n",
    "# outs = reduce((x,y) -> cat(2,x,y),outs)\n",
    "# x = outs[1,:]\n",
    "# y = outs[2,:]\n",
    "# scatter(x,y)\n",
    "#outs"
   ]
  },
  {
   "cell_type": "code",
   "execution_count": null,
   "metadata": {
    "collapsed": false
   },
   "outputs": [],
   "source": [
    "for i = training_length+1:training_length+1000\n",
    "    cur,next = mod_to_length(i,length(x)),mod_to_length(i+1,length(x))\n",
    "    push!(outs,forward_predict(rnn,outs[end]))\n",
    "    push!(real_outs,x[next])\n",
    "    \n",
    "end"
   ]
  },
  {
   "cell_type": "code",
   "execution_count": 50,
   "metadata": {
    "collapsed": false
   },
   "outputs": [
    {
     "data": {
      "image/png": "[encoded data removed]",
      "text/plain": [
       "PyPlot.Figure(PyObject <matplotlib.figure.Figure object at 0x76ee0d0>)"
      ]
     },
     "metadata": {},
     "output_type": "display_data"
    },
    {
     "data": {
      "text/plain": [
       "SimpleRnn(sigma,sigma_prime,1x2 Array{Float64,2}:\n",
       " -1.02676  -1.02016,2x2 Array{Float64,2}:\n",
       " -0.0532761  -2.90473  \n",
       " -3.50022    -0.0536027,2x1 Array{Float64,2}:\n",
       " -0.0360733\n",
       " -1.91193  ,2x1 Array{Float64,2}:\n",
       " -1.57279\n",
       " -1.57279,2x1x2 Array{Float64,3}:\n",
       "[:, :, 1] =\n",
       " 0.0\n",
       " 0.0\n",
       "\n",
       "[:, :, 2] =\n",
       " 0.0\n",
       " 0.0,2x2x2 Array{Float64,3}:\n",
       "[:, :, 1] =\n",
       " 0.0  0.0\n",
       " 0.0  0.0\n",
       "\n",
       "[:, :, 2] =\n",
       " 0.0  0.0\n",
       " 0.0  0.0,2x2x1 Array{Float64,3}:\n",
       "[:, :, 1] =\n",
       " 0.0  0.0\n",
       " 0.0  0.0,2x2x1 Array{Float64,3}:\n",
       "[:, :, 1] =\n",
       " 0.0  0.0\n",
       " 0.0  0.0,2x1 Array{Float64,2}:\n",
       "  28.7947\n",
       " -29.949 ,0.01,12004)"
      ]
     },
     "execution_count": 50,
     "metadata": {},
     "output_type": "execute_result"
    }
   ],
   "source": [
    "#semilogy((outs-real_outs))\n",
    "outs_plot = concat_list_of_arrays(outs)\n",
    "real_outs_plot = concat_list_of_arrays(real_outs)\n",
    "\n",
    "plot_end =instances*training_length+length(x)\n",
    "#plot_begin = instances*training_length-5*length(x)\n",
    "plot_begin = 1#\n",
    "\n",
    "plot(real_outs_plot[plot_begin:plot_end])\n",
    "plot(outs_plot[plot_begin:plot_end])\n",
    "plot(log10(abs(real_outs_plot-outs_plot))[plot_begin:plot_end])\n",
    "grid()\n",
    "rnn"
   ]
  },
  {
   "cell_type": "code",
   "execution_count": null,
   "metadata": {
    "collapsed": false
   },
   "outputs": [],
   "source": [
    "print(rnn)"
   ]
  },
  {
   "cell_type": "markdown",
   "metadata": {},
   "source": [
    "## TODO:\n",
    "s seems to reach a steady state, and C does all the learning. How do we avoid s reaching some unstable steady state?"
   ]
  },
  {
   "cell_type": "code",
   "execution_count": null,
   "metadata": {
    "collapsed": false
   },
   "outputs": [],
   "source": [
    "rnn = SimpleRnn(2,10,0.05)\n",
    "outs = step_forward(rnn,[1,1],1000,tracking=true)\n",
    "#forward(rnn,[1,2])\n",
    "outs = reduce((x,y) -> cat(2,x,y),outs)\n",
    "x = outs[1,:]\n",
    "y = outs[2,:]\n",
    "scatter(x,y)"
   ]
  },
  {
   "cell_type": "code",
   "execution_count": null,
   "metadata": {
    "collapsed": false
   },
   "outputs": [],
   "source": [
    "tensoradd([1,2],[1,2])"
   ]
  },
  {
   "cell_type": "code",
   "execution_count": null,
   "metadata": {
    "collapsed": false
   },
   "outputs": [],
   "source": [
    "using PyPlot\n",
    "x = collect(-1:0.01:1)\n",
    "\n",
    "plot(x,sech(x).^2)\n",
    "plot(x,rnn.sigma(x))"
   ]
  },
  {
   "cell_type": "code",
   "execution_count": null,
   "metadata": {
    "collapsed": false
   },
   "outputs": [],
   "source": [
    "[1,2]'*randn(2,2)"
   ]
  },
  {
   "cell_type": "code",
   "execution_count": null,
   "metadata": {
    "collapsed": true
   },
   "outputs": [],
   "source": []
  }
 ],
 "metadata": {
  "kernelspec": {
   "display_name": "Julia 0.4.0-pre",
   "language": "julia",
   "name": "julia-0.4"
  },
  "language_info": {
   "file_extension": ".jl",
   "mimetype": "application/julia",
   "name": "julia",
   "version": "0.4.1"
  }
 },
 "nbformat": 4,
 "nbformat_minor": 0
}
